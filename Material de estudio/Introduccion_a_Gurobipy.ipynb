{
 "cells": [
  {
   "cell_type": "markdown",
   "id": "96f01982",
   "metadata": {},
   "source": [
    "# Tutorial Básico de Gurobi para Programación Lineal\n",
    "\n",
    "Este tutorial te enseñará los conceptos fundamentales para resolver problemas de programación lineal usando Gurobi en Python.\n",
    "\n",
    "## Contenido:\n",
    "1. Importar el módulo de Gurobi\n",
    "2. Definir un problema ejemplo\n",
    "3. Crear variables de decisión\n",
    "4. Definir restricciones\n",
    "5. Establecer la función objetivo\n",
    "6. Resolver el problema\n",
    "7. Extraer resultados y precios sombra\n",
    "\n",
    "\n",
    "---"
   ]
  },
  {
   "cell_type": "markdown",
   "id": "92d02cf1",
   "metadata": {},
   "source": [
    "## 1. Importación del Módulo Gurobi\n",
    "\n",
    "Primero debemos importar la librería de Gurobi. Asegúrate de tener Gurobi instalado y con una licencia válida."
   ]
  },
  {
   "cell_type": "code",
   "execution_count": 3,
   "id": "adf8f913",
   "metadata": {},
   "outputs": [],
   "source": [
    "import gurobipy as gp\n",
    "from gurobipy import GRB\n",
    "\n",
    "# También importamos otra librerías útil para hacer DataFrames\n",
    "import pandas as pd"
   ]
  },
  {
   "cell_type": "markdown",
   "id": "321c0566",
   "metadata": {},
   "source": [
    "## 2. Definición del Problema Ejemplo\n",
    "\n",
    "Vamos a resolver un problema clásico de programación lineal:\n",
    "\n",
    "**Problema de Producción:**\n",
    "\n",
    "Una empresa produce dos productos: A y B. Queremos maximizar las ganancias.\n",
    "\n",
    "- Producto A: ganancia de $3 por unidad\n",
    "- Producto B: ganancia de $5 por unidad\n",
    "\n",
    "**Restricciones:**\n",
    "- Tiempo de máquina: 2 horas para A, 1 hora para B (máximo 100 horas disponibles)\n",
    "- Material: 1 kg para A, 3 kg para B (máximo 80 kg disponibles)\n",
    "- Demanda mínima: al menos 5 unidades de A\n",
    "- Variables no negativas\n",
    "\n",
    "**Formulación matemática:**\n",
    "\n",
    "Maximizar: 3x₁ + 5x₂\n",
    "\n",
    "Sujeto a:\n",
    "- 2x₁ + x₂ ≤ 100  (tiempo de máquina)\n",
    "- x₁ + 3x₂ ≤ 80   (material)\n",
    "- x₁ ≥ 5          (demanda mínima)\n",
    "- x₁, x₂ ≥ 0      (no negatividad)"
   ]
  },
  {
   "cell_type": "markdown",
   "id": "937bd061",
   "metadata": {},
   "source": [
    "## 3. Creación del Modelo\n",
    "\n",
    "En Gurobi, todo problema se define dentro de un \"modelo\". Primero creamos el modelo:"
   ]
  },
  {
   "cell_type": "code",
   "execution_count": 4,
   "id": "8f79bbfd",
   "metadata": {},
   "outputs": [
    {
     "name": "stdout",
     "output_type": "stream",
     "text": [
      "Set parameter Username\n",
      "Set parameter LicenseID to value 2596460\n",
      "Academic license - for non-commercial use only - expires 2025-12-06\n",
      "Set parameter LicenseID to value 2596460\n",
      "Academic license - for non-commercial use only - expires 2025-12-06\n"
     ]
    }
   ],
   "source": [
    "# Crear el modelo\n",
    "modelo = gp.Model(\"ProblemaProduccion\")"
   ]
  },
  {
   "cell_type": "markdown",
   "id": "4d59666d",
   "metadata": {},
   "source": [
    "## 4. Definición de Variables de Decisión\n",
    "\n",
    "Las variables de decisión representan las cantidades que queremos determinar. En nuestro caso, las cantidades a producir de cada producto.\n",
    "\n",
    "Pese a ser positivas irrestrictas las variables, es buena práctica utilizar un número muy grande positivo como límite superior para mejorar la convergencia. Se denomina comúnmente `bigM` a este número muy grande. Para este ejemplo será 1 millón.\n",
    "\n",
    "En este ejemplo las variables son continuas, por lo que su tipo será `GRB.CONTINUOUS`. Sin embargo, gurobi también permite definir otros tipos de variables, como binarias (`GRB.BINARY`) o enteras (`GRB.INTEGER`)."
   ]
  },
  {
   "cell_type": "code",
   "execution_count": 11,
   "id": "c19637a5",
   "metadata": {},
   "outputs": [],
   "source": [
    "# Definir variables de decisión\n",
    "# addVar(lb=lower_bound, ub=upper_bound, vtype=variable_type, name=\"nombre\")\n",
    "\n",
    "x1 = modelo.addVar(lb=0, ub=1e6, vtype=GRB.CONTINUOUS, name=\"ProductoA\") # Una variable puede ser Continuous, Binary o Integer\n",
    "x2 = modelo.addVar(lb=0, ub=1e6, vtype=GRB.CONTINUOUS, name=\"ProductoB\")\n",
    "\n",
    "# Actualizar el modelo para que reconozca las nuevas variables\n",
    "modelo.update()"
   ]
  },
  {
   "cell_type": "markdown",
   "id": "9549df5b",
   "metadata": {},
   "source": [
    "## 5. Definición de Restricciones\n",
    "\n",
    "Las restricciones limitan el espacio de soluciones factibles. Se definen usando `addConstr()`."
   ]
  },
  {
   "cell_type": "code",
   "execution_count": 12,
   "id": "dde8430f",
   "metadata": {},
   "outputs": [],
   "source": [
    "# Definir restricciones\n",
    "\n",
    "# Restricción 1: Tiempo de máquina (2x1 + x2 <= 100)\n",
    "restriccion_tiempo = modelo.addConstr(2*x1 + x2 <= 100, name=\"TiempoMaquina\")\n",
    "\n",
    "# Restricción 2: Material (x1 + 3x2 <= 80)\n",
    "restriccion_material = modelo.addConstr(x1 + 3*x2 <= 80, name=\"Material\")\n",
    "\n",
    "# Restricción 3: Demanda mínima (x1 >= 5)\n",
    "restriccion_demanda = modelo.addConstr(x1 >= 5, name=\"DemandaMinima\")"
   ]
  },
  {
   "cell_type": "markdown",
   "id": "7e3a95b0",
   "metadata": {},
   "source": [
    "Las restricciones de no negatividad $(x1, x2 >= 0)$ ya están incluidas en la definición de las variables con $lb=0$"
   ]
  },
  {
   "cell_type": "markdown",
   "id": "061705a8",
   "metadata": {},
   "source": [
    "## 6. Definición de la Función Objetivo\n",
    "\n",
    "La función objetivo define qué queremos optimizar (maximizar o minimizar)."
   ]
  },
  {
   "cell_type": "code",
   "execution_count": 14,
   "id": "8b942623",
   "metadata": {},
   "outputs": [],
   "source": [
    "# Definir función objetivo\n",
    "# Maximizar: 3x1 + 5x2\n",
    "modelo.setObjective(3*x1 + 5*x2, GRB.MAXIMIZE)"
   ]
  },
  {
   "cell_type": "markdown",
   "id": "f2838c74",
   "metadata": {},
   "source": [
    "## 7. Resolución del Problema\n",
    "\n",
    "Una vez definido completamente el modelo, usamos `optimize()` para resolverlo."
   ]
  },
  {
   "cell_type": "code",
   "execution_count": 16,
   "id": "ceb9146a",
   "metadata": {},
   "outputs": [
    {
     "name": "stdout",
     "output_type": "stream",
     "text": [
      "Gurobi Optimizer version 12.0.2 build v12.0.2rc0 (win64 - Windows 11.0 (26100.2))\n",
      "\n",
      "CPU model: Intel(R) Core(TM) Ultra 7 155H, instruction set [SSE2|AVX|AVX2]\n",
      "Thread count: 16 physical cores, 22 logical processors, using up to 22 threads\n",
      "\n",
      "Optimize a model with 3 rows, 10 columns and 5 nonzeros\n",
      "Coefficient statistics:\n",
      "  Matrix range     [1e+00, 3e+00]\n",
      "  Objective range  [3e+00, 5e+00]\n",
      "  Bounds range     [1e+06, 1e+06]\n",
      "  RHS range        [5e+00, 1e+02]\n",
      "\n",
      "Solved in 0 iterations and 0.01 seconds (0.00 work units)\n",
      "Optimal objective  1.920000000e+02\n"
     ]
    }
   ],
   "source": [
    "# Resolver el problema\n",
    "modelo.optimize()"
   ]
  },
  {
   "cell_type": "markdown",
   "id": "2278bf43",
   "metadata": {},
   "source": [
    "## 8. Extracción de Resultados\n",
    "\n",
    "Si el problema tiene solución óptima, podemos extraer los valores de las variables y el valor objetivo."
   ]
  },
  {
   "cell_type": "code",
   "execution_count": 17,
   "id": "d7ab306c",
   "metadata": {},
   "outputs": [
    {
     "name": "stdout",
     "output_type": "stream",
     "text": [
      "=== RESULTADOS DE LA OPTIMIZACIÓN ===\n",
      "Valor objetivo óptimo: $192.00\n",
      "\n",
      "Valores óptimos de las variables:\n",
      "Producto A (x1): 44.00 unidades\n",
      "Producto B (x2): 12.00 unidades\n",
      "\n",
      "Estado de las restricciones:\n",
      "Tiempo de máquina: 100.00 / 100 horas\n",
      "Material: 80.00 / 80 kg\n",
      "Demanda mínima: 44.00 / 5 unidades mínimas\n"
     ]
    }
   ],
   "source": [
    "# Extraer resultados si la solución es óptima\n",
    "if modelo.status == GRB.OPTIMAL:\n",
    "    print(\"=== RESULTADOS DE LA OPTIMIZACIÓN ===\")\n",
    "    print(f\"Valor objetivo óptimo: ${modelo.objVal:.2f}\")\n",
    "    print()\n",
    "    \n",
    "    # Valores de las variables\n",
    "    print(\"Valores óptimos de las variables:\")\n",
    "    print(f\"Producto A (x1): {x1.x:.2f} unidades\")\n",
    "    print(f\"Producto B (x2): {x2.x:.2f} unidades\")\n",
    "    print()\n",
    "    \n",
    "    # Verificar qué restricciones están activas (binding)\n",
    "    print(\"Estado de las restricciones:\")\n",
    "    print(f\"Tiempo de máquina: {2*x1.x + x2.x:.2f} / 100 horas\")\n",
    "    print(f\"Material: {x1.x + 3*x2.x:.2f} / 80 kg\")\n",
    "    print(f\"Demanda mínima: {x1.x:.2f} / 5 unidades mínimas\")\n",
    "else:\n",
    "    print(\"No se pudo obtener una solución óptima\")"
   ]
  },
  {
   "cell_type": "markdown",
   "id": "f0587a80",
   "metadata": {},
   "source": [
    "## 9. Extracción de Precios Sombra (Dual Values)\n",
    "\n",
    "Los precios sombra nos indican cuánto aumentaría el valor objetivo si relajáramos cada restricción en una unidad."
   ]
  },
  {
   "cell_type": "code",
   "execution_count": 20,
   "id": "c63c8438",
   "metadata": {},
   "outputs": [
    {
     "name": "stdout",
     "output_type": "stream",
     "text": [
      "=== PRECIOS SOMBRA (VALORES DUALES) ===\n",
      "\n",
      "Tiempo de máquina: $0.80 por hora adicional\n",
      "Material: $1.40 por kg adicional\n",
      "Demanda mínima: $0.00 por unidad adicional requerida\n",
      "\n"
     ]
    }
   ],
   "source": [
    "# Extraer precios sombra (valores duales)\n",
    "if modelo.status == GRB.OPTIMAL:\n",
    "    print(\"=== PRECIOS SOMBRA (VALORES DUALES) ===\")\n",
    "    print()\n",
    "    \n",
    "    # Precios sombra de las restricciones\n",
    "    print(f\"Tiempo de máquina: ${restriccion_tiempo.pi:.2f} por hora adicional\")\n",
    "    print(f\"Material: ${restriccion_material.pi:.2f} por kg adicional\")\n",
    "    print(f\"Demanda mínima: ${restriccion_demanda.pi:.2f} por unidad adicional requerida\")\n",
    "    print()"
   ]
  },
  {
   "cell_type": "markdown",
   "id": "f7757b24",
   "metadata": {},
   "source": [
    "## 10. Conceptos Clave Aprendidos\n",
    "\n",
    "### Proceso paso a paso en Gurobi:\n",
    "\n",
    "1. **Importar la librería:** `import gurobipy as gp`\n",
    "2. **Crear modelo:** `modelo = gp.Model(\"nombre\")`\n",
    "3. **Definir variables:** `x = modelo.addVar(lb=0, vtype=GRB.CONTINUOUS, name=\"x\")`\n",
    "4. **Agregar restricciones:** `modelo.addConstr(expresión, name=\"nombre\")`\n",
    "5. **Establecer objetivo:** `modelo.setObjective(expresión, GRB.MAXIMIZE)`\n",
    "6. **Resolver:** `modelo.optimize()`\n",
    "7. **Extraer resultados:** `variable.x` para valores, `restriccion.pi` para precios sombra"
   ]
  },
  {
   "cell_type": "markdown",
   "id": "3afe17ce",
   "metadata": {},
   "source": [
    "## 11. Ejercicio Práctico\n",
    "\n",
    "### Problema para resolver:\n",
    "\n",
    "Una panadería produce dos tipos de pan: integral y blanco.\n",
    "\n",
    "**Datos:**\n",
    "- Pan integral: ganancia de $2 por unidad\n",
    "- Pan blanco: ganancia de $1.5 por unidad\n",
    "\n",
    "**Restricciones:**\n",
    "- Horno: 3 horas para integral, 2 horas para blanco (máximo 120 horas/día)\n",
    "- Harina integral: 1 kg por unidad de pan integral (máximo 25 kg/día)\n",
    "- Harina común: 0.5 kg por unidad de pan blanco (máximo 30 kg/día)\n",
    "- Demanda mínima: al menos 10 panes integrales por día\n",
    "\n",
    "Resuelve este problema usando los comandos aprendidos de Gurobipy"
   ]
  }
 ],
 "metadata": {
  "kernelspec": {
   "display_name": "Cobra",
   "language": "python",
   "name": "python3"
  },
  "language_info": {
   "codemirror_mode": {
    "name": "ipython",
    "version": 3
   },
   "file_extension": ".py",
   "mimetype": "text/x-python",
   "name": "python",
   "nbconvert_exporter": "python",
   "pygments_lexer": "ipython3",
   "version": "3.12.11"
  }
 },
 "nbformat": 4,
 "nbformat_minor": 5
}
